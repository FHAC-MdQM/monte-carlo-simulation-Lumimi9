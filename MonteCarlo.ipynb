{
 "cells": [
  {
   "cell_type": "markdown",
   "metadata": {},
   "source": [
    "# Monte-Carlo Simulation\n",
    "\n",
    "## Aufgabenstellung\n",
    "\n",
    "Wir betrachten weiter den Federspeicher aus Assignment 1. Diesmal simulieren wir die Ergebnisse der Fertigung für $N=10.000$ Zylinder. In diesem Assignment kommt die Federrate dazu. Das Federpaket besteht aus 24 Einzelfedern, die ineinander gesteckt auf dem Umfang des Zylinder verteilt sind. Die Toleranzen der Federn sind recht groß. Die Federn sind nominal\n",
    "\n",
    "- $c_1 = (100 \\pm 20)\\, \\mathrm{N/mm}$ \n",
    "- $c_2 = (150 \\pm 30)\\, \\mathrm{N/mm}$ \n",
    "- $c_3 = (200 \\pm 40)\\, \\mathrm{N/mm}$ \n",
    "\n",
    "Die Gesamtfederrate ergibt sich als\n",
    "\n",
    "\\begin{equation}\n",
    "c = \\sum_{i=1}^{3} \\sum_{j=1}^{8} c_{i,j}\n",
    "\\end{equation}\n",
    "\n",
    "Die geometrischen Eigenschaften entspricht dem ersten Assignment:\n",
    "\n",
    " - Deviation $d$/mm: Gleichverteilt, $[-0.05, 0.05]\\,\\mathrm{mm}$\n",
    " - Deviation $h_{1}$/mm: Gleichverteilt, $[-0.05, 0.05]\\,\\mathrm{mm}$\n",
    " - Deviation $h_{2}$/mm: Gleichverteilt, $[-0.05, 0.05]\\,\\mathrm{mm}$\n",
    " - Dev. $l$/mm: Gleichverteilt, $[-0.05, 0.05]\\,\\mathrm{mm}$\n",
    "\n",
    "Mit diesen Abweichungen vom Mittelwert ergibt sich die Kraft des Federspeichers als\n",
    "\n",
    "\\begin{equation}\n",
    "F = c(1 + h_1 + h_2 + l + d)\n",
    "\\end{equation}\n",
    "\n",
    "Fragestellungen:\n",
    "\n",
    "1. Federpaket:\n",
    "   - a. Wie verhält sich das Federpaket im nominalen Zustand? Simuliert dazu $N=10^4$ stochastisch unabhängige Einzelfedern und bestimmt die Federrate des Federpakets.\n",
    "   - b. Die Federn $c_2$ liegt innerhalb der Toleranzen mit $c_3 < 200 \\, \\mathrm{N/mm}$. Wie ändert sich die Federrate?\n",
    "2. Federspeicherzylinder: Welche Verteilungen ergeben sich für die Federspeicherzylinder mit Federpakete nach a. bzw. b.? Wie entwickelt sich der Anteil der konformen Einheiten ($F_{min} = 18 \\,\\mathrm{kN}$)?\n",
    "\n",
    "Beantwortet die Fragestellungen in einem technischen Bericht mit Einleitung, Analyse und Beantwortung der Fragen."
   ]
  },
  {
   "cell_type": "markdown",
   "metadata": {},
   "source": [
    "## Einleitung\n",
    "\n",
    "Um den Einfluss der Toleranzen auf die anzahl der Konformen Einheiten zu ermitteln werden N=10^5 Federspeicher simuliert, indem drei Feder Pakete von S=8 randomisiert mit gleichmäßiger Verteilung simuliert werden. \n",
    "Im ersten Schritt werden die Federn im nominalen Bereich simuliert (c1, c2 und c3a), danach Folgt die Halbierung des Toleranzbereichs für die Federn c3 (c3b). \n",
    "Die zugehörigen Federspeicher Kräfte werden für beide Fälle ermittelt. "
   ]
  },
  {
   "cell_type": "markdown",
   "metadata": {},
   "source": [
    "## Analyse\n",
    "### Setup\n",
    "\n",
    "Zuerst werden die notwendigen Libraries geladen"
   ]
  },
  {
   "cell_type": "code",
   "execution_count": 187,
   "metadata": {},
   "outputs": [],
   "source": [
    "# Numpy for higher level mathematics\n",
    "import numpy as np\n",
    "# Matplotlib and the pyplot module for a Matlab-like plot syntax\n",
    "import matplotlib\n",
    "# This is the syntax to import as a named module\n",
    "import matplotlib.pyplot as plt\n",
    "# Plot the graphs in the notebook\n",
    "%matplotlib inline\n",
    "import math"
   ]
  },
  {
   "cell_type": "markdown",
   "metadata": {},
   "source": [
    "### 1a) Simulation von N=10^4 stochastisch unabhängigen Einzelfedern, bestimmung der Federrate des Paketes\n",
    "\n",
    "Die Federn 1 bis 3 werden in ihren Toleranzbereichen mit einer Gleichmäßigen Verteilung simuliert.\n",
    "Für die Federrate ergibt sich eine Normalverteilung mit einem Erwartungswert von etwa 3600 N/mm (Entspricht der Nominalen Federrate des Paketes) \n",
    "Die Standard Abweichung liegt bei etwa 88 N/mm (Genaue Werte für die jeweiligen experimente sind im Folgenden Abschnitt zu finden. \n",
    "\n",
    "𝑐1=(100±20)N/mm \n",
    "𝑐2=(150±30)N/mm \n",
    "𝑐3=(200±40)N/mm\n"
   ]
  },
  {
   "cell_type": "code",
   "execution_count": 188,
   "metadata": {},
   "outputs": [
    {
     "name": "stdout",
     "output_type": "stream",
     "text": [
      " Erwartungswert 3600.0 N/mm \n",
      " Varianz 7683.0 (N/mm)^2 \n",
      " => Standard Deviation 88.0 N/mm\n"
     ]
    },
    {
     "data": {
      "image/png": "[encoded data removed]",
      "text/plain": [
       "<Figure size 432x288 with 1 Axes>"
      ]
     },
     "metadata": {
      "needs_background": "light"
     },
     "output_type": "display_data"
    }
   ],
   "source": [
    "N = 100000 #Anzahl Federspeicher\n",
    "P = 8 #Anzahl Federn Pro Paket \n",
    "# Random number generator\n",
    "rng = np.random.default_rng()\n",
    "\n",
    "c1 = rng.uniform(low = 80, high = 120, size = (N,P))\n",
    "c2 = rng.uniform(low = 120, high = 180, size = (N,P))\n",
    "c3a = rng.uniform(low = 160, high = 240, size = (N,P))\n",
    "ca = np.sum(c1, axis = 1)+np.sum(c2, axis = 1)+np.sum(c3a, axis = 1)\n",
    "\n",
    "plt.hist(ca, bins = 30)\n",
    "\n",
    "avg_ca=np.mean(ca)\n",
    "var_ca=np.var(ca)\n",
    "std_ca=np.std(ca)\n",
    "\n",
    "print(' Erwartungswert', np.round(avg_ca), 'N/mm \\n Varianz', np.round(var_ca), '(N/mm)^2 \\n => Standard Deviation', np.round(std_ca),'N/mm')\n"
   ]
  },
  {
   "cell_type": "markdown",
   "metadata": {},
   "source": [
    "### 1b) c2=200-40N/mm\n",
    "\n",
    "Die Einschränkung des Toleranzbereichs auf Werte unter 200N/mm für die dritte Feder führt\n",
    "- zu einer verringerung des Erwartungswertes um etwa 160 N/mm=8x20N/mm was genau der Halbierung des Toleranzfensters (1/2x40N/mm) entspricht.\n",
    "- zu einer Verringerung der Standardvariation um etwa 20 N/mm"
   ]
  },
  {
   "cell_type": "code",
   "execution_count": 189,
   "metadata": {},
   "outputs": [
    {
     "name": "stdout",
     "output_type": "stream",
     "text": [
      " Erwartungswert 3440.0 N/mm ( 160.0 )  \n",
      " Varianz 4560.0 (N/mm)^2 \n",
      " => Standard Deviation 68.0 N/mm ( 20.0 )\n"
     ]
    },
    {
     "data": {
      "image/png": "[encoded data removed]",
      "text/plain": [
       "<Figure size 432x288 with 1 Axes>"
      ]
     },
     "metadata": {
      "needs_background": "light"
     },
     "output_type": "display_data"
    }
   ],
   "source": [
    "c3b = rng.uniform(low = 160, high = 200, size = (N,P))\n",
    "cb = np.sum(c1, axis = 1)+np.sum(c2, axis = 1)+np.sum(c3b, axis = 1)\n",
    "\n",
    "plt.hist(cb, bins = 30)\n",
    "\n",
    "avg_cb=np.mean(cb)\n",
    "var_cb=np.var(cb)\n",
    "std_cb=np.std(cb)\n",
    "\n",
    "print(' Erwartungswert', np.round(avg_cb),'N/mm (',np.round(avg_ca-avg_cb),')  \\n Varianz',np.round(var_cb), '(N/mm)^2 \\n => Standard Deviation', np.round(std_cb),'N/mm (',np.round(std_ca-std_cb),')')\n",
    "\n"
   ]
  },
  {
   "cell_type": "markdown",
   "metadata": {},
   "source": [
    "### 2 a) mit c3=200+-40 N/mm\n",
    "\n",
    "Im Nominalen zustand liegt der Anteil an Konformen Federspeichern bei etwa 72% und der Erwartungswert bei 18700N \n"
   ]
  },
  {
   "cell_type": "code",
   "execution_count": 190,
   "metadata": {},
   "outputs": [
    {
     "name": "stdout",
     "output_type": "stream",
     "text": [
      "Der Erwartungswert 18720.0 N liegt etwas über 18kN \n",
      "\n",
      "72.361 % der Federspeicher liegen oberhalb des mindest Wertes von 18kN \n",
      "\n",
      "99% der Federspeicher liegen zwischen 15197.0 N und 22243.0 N \n",
      "\n",
      "\n",
      " Varianz 1379027.0 N^2 \n",
      " => Standard Deviation 1174.0 N\n"
     ]
    },
    {
     "data": {
      "image/png": "[encoded data removed]",
      "text/plain": [
       "<Figure size 432x288 with 1 Axes>"
      ]
     },
     "metadata": {
      "needs_background": "light"
     },
     "output_type": "display_data"
    }
   ],
   "source": [
    "d = rng.uniform(low = -0.05, high =0.05, size = N)\n",
    "h1 = rng.uniform(low = -0.05, high =0.05, size = N)\n",
    "h2 = rng.uniform(low = -0.05, high =0.05, size = N)\n",
    "l= rng.uniform(low = -0.05, high =0.05, size = N)\n",
    "i=2.6\n",
    "Fa=c*2*i*(1+d+h1+h2+l)\n",
    "\n",
    "plt.hist(Fa, bins = 30)\n",
    "\n",
    "avg_Fa=np.mean(Fa)\n",
    "var_Fa=np.var(Fa)\n",
    "std_Fa=np.std(Fa)\n",
    "realm_Fa=np.mean(Fa) - 3*np.std(Fa)\n",
    "realp_Fa=np.mean(Fa) + 3*np.std(Fa)\n",
    "\n",
    "print('Der Erwartungswert', np.round(avg_Fa), 'N liegt etwas über 18kN \\n')\n",
    "print(len(Fa[Fa>18000])*100/N, '% der Federspeicher liegen oberhalb des mindest Wertes von 18kN \\n')\n",
    "print('99% der Federspeicher liegen zwischen', np.round(realm_Fa), 'N und', np.round(realp_Fa),'N \\n')\n",
    "\n",
    "print('\\n Varianz', np.round(var_Fa), 'N^2 \\n => Standard Deviation', np.round(std_Fa),'N')"
   ]
  },
  {
   "cell_type": "markdown",
   "metadata": {},
   "source": [
    "### 2 b) mit c3=200-40 N/mm\n",
    "\n",
    "Wird der Toleranzbereich von c3 halbiert, liegt der Erwartungswert bei unter 18kN (17800N), der Anteil an Konformen Federspeichern sinkt auf etwa 45%"
   ]
  },
  {
   "cell_type": "code",
   "execution_count": 191,
   "metadata": {},
   "outputs": [
    {
     "name": "stdout",
     "output_type": "stream",
     "text": [
      "Der Erwartungswert 17888.0 N liegt etwas unter 18kN \n",
      "\n",
      "45.692 % der Federspeicher liegen oberhalb des mindest Wertes von 18kN \n",
      "\n",
      "99% der Federspeicher liegen zwischen 14609.0 N und 21167.0 N \n",
      "\n",
      "Varianz 1194691.0 N^2 \n",
      " => Standard Deviation 1093.0 N\n"
     ]
    },
    {
     "data": {
      "image/png": "[encoded data removed]",
      "text/plain": [
       "<Figure size 432x288 with 1 Axes>"
      ]
     },
     "metadata": {
      "needs_background": "light"
     },
     "output_type": "display_data"
    }
   ],
   "source": [
    "Fb=cb*2*i*(1+d+h1+h2+l)\n",
    "\n",
    "plt.hist(Fb, bins = 30)\n",
    "\n",
    "avg_Fb=np.mean(Fb)\n",
    "var_Fb=np.var(Fb)\n",
    "std_Fb=np.std(Fb)\n",
    "realm_Fb=np.mean(Fb) - 3*np.std(Fb)\n",
    "realp_Fb=np.mean(Fb) + 3*np.std(Fb)\n",
    "\n",
    "print('Der Erwartungswert', np.round(avg_Fb), 'N liegt etwas unter 18kN \\n')\n",
    "print(len(Fb[Fb>18000])*100/N, '% der Federspeicher liegen oberhalb des mindest Wertes von 18kN \\n')\n",
    "print('99% der Federspeicher liegen zwischen', np.round(realm_Fb), 'N und', np.round(realp_Fb),'N \\n')\n",
    "\n",
    "print('Varianz', np.round(var_Fb), 'N^2 \\n => Standard Deviation', np.round(std_Fb),'N')"
   ]
  },
  {
   "cell_type": "markdown",
   "metadata": {},
   "source": [
    "## Ergebnisse\n",
    "### 1 a)\n",
    "Wie verhält sich das Federpaket im nominalen Zustand? Simuliert dazu mindestens 𝑁=10^4  stochastisch unabhängige Einzelfedern und bestimmt die Federrate des Federpakets."
   ]
  },
  {
   "cell_type": "code",
   "execution_count": 192,
   "metadata": {},
   "outputs": [
    {
     "name": "stdout",
     "output_type": "stream",
     "text": [
      "Anzahl simulierter Federsets 100000\n",
      "Die mittlere Federrate beträgt 3600.0 N/mm (Erwartungswert) \n",
      "und weicht im Mittel um 88.0 N/mm ab (Standard Deviation)\n"
     ]
    },
    {
     "data": {
      "image/png": "[encoded data removed]",
      "text/plain": [
       "<Figure size 432x288 with 1 Axes>"
      ]
     },
     "metadata": {
      "needs_background": "light"
     },
     "output_type": "display_data"
    }
   ],
   "source": [
    "plt.hist(ca, bins = 30)\n",
    "\n",
    "print('Anzahl simulierter Federsets', N)\n",
    "print('Die mittlere Federrate beträgt', np.round(avg_ca), 'N/mm (Erwartungswert) \\nund weicht im Mittel um', np.round(std_ca),'N/mm ab (Standard Deviation)')\n",
    "\n"
   ]
  },
  {
   "cell_type": "markdown",
   "metadata": {},
   "source": [
    "### 1 b)\n",
    "Die Federn  𝑐2  liegt innerhalb der Toleranzen mit  𝑐3<200N/mm . Wie ändert sich die Federrate?"
   ]
  },
  {
   "cell_type": "code",
   "execution_count": 193,
   "metadata": {},
   "outputs": [
    {
     "name": "stdout",
     "output_type": "stream",
     "text": [
      "Die mittlere Federrate beträgt 3440.0 N/mm (Erwartungswert) \n",
      "und weicht im Mittel um 68.0 N/mm ab (Standard Deviation)\n",
      "im Vergleich zu 1a ist... \n",
      "...die mittlere Federrate von 3600.0 um 160.0 gesunken\n",
      "...die Standard Deviation ist von 88.0 um 20.0 gesunken (Die Werte liegen nun enger beieinander)\n"
     ]
    },
    {
     "data": {
      "image/png": "[encoded data removed]",
      "text/plain": [
       "<Figure size 432x288 with 1 Axes>"
      ]
     },
     "metadata": {
      "needs_background": "light"
     },
     "output_type": "display_data"
    }
   ],
   "source": [
    "plt.hist(cb, bins = 30)\n",
    "print('Die mittlere Federrate beträgt', np.round(avg_cb), 'N/mm (Erwartungswert) \\nund weicht im Mittel um', np.round(std_cb),'N/mm ab (Standard Deviation)')\n",
    "print('im Vergleich zu 1a ist... \\n...die mittlere Federrate von', np.round(avg_ca), 'um', np.round(avg_ca)-np.round(avg_cb), 'gesunken')\n",
    "print('...die Standard Deviation ist von',np.round(std_ca), 'um', np.round(std_ca-std_cb),'gesunken (Die Werte liegen nun enger beieinander)')"
   ]
  },
  {
   "cell_type": "markdown",
   "metadata": {},
   "source": [
    "### 2 \n",
    "Welche Verteilungen ergeben sich für die Federspeicherzylinder mit Federpakete nach a. bzw. b.? Wie entwickelt sich der Anteil der konformen Einheiten ( 𝐹𝑚𝑖𝑛=18kN )?\n",
    "\n"
   ]
  },
  {
   "cell_type": "code",
   "execution_count": 218,
   "metadata": {},
   "outputs": [
    {
     "name": "stdout",
     "output_type": "stream",
     "text": [
      "Fall a (Blau): \n",
      "Der Erwartungswert 18720.0 N liegt etwas über 18kN\n",
      "27.639 % der Federspeicher mit c3=200N/mm +-40 N/mm liegen unterhalb des mindest Wertes von 18kN  und sind somit Ausschuss\n",
      "Fall b (Orange): \n",
      "Der Erwartungswert 17888.0 N liegt etwas unter 18kN\n",
      "54.308 % der Federspeicher mit c3=200N/mm -40 N/mm liegen unterhalb des mindest Wertes von 18kN und sind somit Ausschuss\n"
     ]
    },
    {
     "data": {
      "image/png": "[encoded data removed]",
      "text/plain": [
       "<Figure size 432x288 with 1 Axes>"
      ]
     },
     "metadata": {
      "needs_background": "light"
     },
     "output_type": "display_data"
    }
   ],
   "source": [
    "plt.hist(Fa, bins = 30)\n",
    "plt.hist(Fb, bins = 30)\n",
    "\n",
    "print('Fall a (Blau): \\nDer Erwartungswert', np.round(avg_Fa), 'N liegt etwas über 18kN')\n",
    "print(len(Fa[Fa<18000])*100/N, '% der Federspeicher mit c3=200N/mm +-40 N/mm liegen unterhalb des mindest Wertes von 18kN  und sind somit Ausschuss')\n",
    "\n",
    "\n",
    "print('Fall b (Orange): \\nDer Erwartungswert', np.round(avg_Fb), 'N liegt etwas unter 18kN')\n",
    "print(len(Fb[Fb<18000])*100/N, '% der Federspeicher mit c3=200N/mm -40 N/mm liegen unterhalb des mindest Wertes von 18kN und sind somit Ausschuss')\n"
   ]
  }
 ],
 "metadata": {
  "kernelspec": {
   "display_name": "Python 3 (ipykernel)",
   "language": "python",
   "name": "python3"
  },
  "language_info": {
   "codemirror_mode": {
    "name": "ipython",
    "version": 3
   },
   "file_extension": ".py",
   "mimetype": "text/x-python",
   "name": "python",
   "nbconvert_exporter": "python",
   "pygments_lexer": "ipython3",
   "version": "3.9.12"
  },
  "vscode": {
   "interpreter": {
    "hash": "ae3b893a0bc58c3148092dc90457c8592fff9682e4337f158c0293f1ec0e16f2"
   }
  }
 },
 "nbformat": 4,
 "nbformat_minor": 2
}
