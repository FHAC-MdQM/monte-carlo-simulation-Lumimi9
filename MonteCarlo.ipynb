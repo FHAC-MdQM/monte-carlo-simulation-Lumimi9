{
 "cells": [
  {
   "cell_type": "markdown",
   "metadata": {},
   "source": [
    "# Monte-Carlo Simulation\n",
    "\n",
    "## Aufgabenstellung\n",
    "\n",
    "Wir betrachten weiter den Federspeicher aus Assignment 1. Diesmal simulieren wir die Ergebnisse der Fertigung für $N=10.000$ Zylinder. In diesem Assignment kommt die Federrate dazu. Das Federpaket besteht aus 24 Einzelfedern, die ineinander gesteckt auf dem Umfang des Zylinder verteilt sind. Die Toleranzen der Federn sind recht groß. Die Federn sind nominal\n",
    "\n",
    "- $c_1 = (100 \\pm 20)\\, \\mathrm{N/mm}$ \n",
    "- $c_2 = (150 \\pm 30)\\, \\mathrm{N/mm}$ \n",
    "- $c_3 = (200 \\pm 40)\\, \\mathrm{N/mm}$ \n",
    "\n",
    "Die Gesamtfederrate ergibt sich als\n",
    "\n",
    "\\begin{equation}\n",
    "c = \\sum_{i=1}^{3} \\sum_{j=1}^{8} c_{i,j}\n",
    "\\end{equation}\n",
    "\n",
    "Die geometrischen Eigenschaften entspricht dem ersten Assignment:\n",
    "\n",
    " - Deviation $d$/mm: Gleichverteilt, $[-0.05, 0.05]\\,\\mathrm{mm}$\n",
    " - Deviation $h_{1}$/mm: Gleichverteilt, $[-0.05, 0.05]\\,\\mathrm{mm}$\n",
    " - Deviation $h_{2}$/mm: Gleichverteilt, $[-0.05, 0.05]\\,\\mathrm{mm}$\n",
    " - Dev. $l$/mm: Gleichverteilt, $[-0.05, 0.05]\\,\\mathrm{mm}$\n",
    "\n",
    "Mit diesen Abweichungen vom Mittelwert ergibt sich die Kraft des Federspeichers als\n",
    "\n",
    "\\begin{equation}\n",
    "F = c(1 + h_1 + h_2 + l + d)\n",
    "\\end{equation}\n",
    "\n",
    "Fragestellungen:\n",
    "\n",
    "1. Federpaket:\n",
    "   - a. Wie verhält sich das Federpaket im nominalen Zustand? Simuliert dazu $N=10^4$ stochastisch unabhängige Einzelfedern und bestimmt die Federrate des Federpakets.\n",
    "   - b. Die Federn $c_2$ liegt innerhalb der Toleranzen mit $c_3 < 200 \\, \\mathrm{N/mm}$. Wie ändert sich die Federrate?\n",
    "2. Federspeicherzylinder: Welche Verteilungen ergeben sich für die Federspeicherzylinder mit Federpakete nach a. bzw. b.? Wie entwickelt sich der Anteil der konformen Einheiten ($F_{min} = 18 \\,\\mathrm{kN}$)?\n",
    "\n",
    "Beantwortet die Fragestellungen in einem technischen Bericht mit Einleitung, Analyse und Beantwortung der Fragen."
   ]
  },
  {
   "cell_type": "markdown",
   "metadata": {},
   "source": [
    "## Einleitung\n"
   ]
  },
  {
   "cell_type": "markdown",
   "metadata": {},
   "source": [
    "## Analyse\n",
    "### Setup\n",
    "\n",
    "Zuerst werden die notwendigen Libraries geladen"
   ]
  },
  {
   "cell_type": "code",
   "execution_count": 107,
   "metadata": {},
   "outputs": [],
   "source": [
    "# Numpy for higher level mathematics\n",
    "import numpy as np\n",
    "# Matplotlib and the pyplot module for a Matlab-like plot syntax\n",
    "import matplotlib\n",
    "# This is the syntax to import as a named module\n",
    "import matplotlib.pyplot as plt\n",
    "# Plot the graphs in the notebook\n",
    "%matplotlib inline\n",
    "import math"
   ]
  },
  {
   "cell_type": "markdown",
   "metadata": {},
   "source": [
    "### 1a) Simulation von N=10^4 stochastisch unabhängigen Einzelfedern, bestimmung der Federrate des Paketes\n",
    "\n",
    "Die Federn 1 bis 3 werden in ihren Toleranzbereichen mit einer Gleichmäßigen Verteilung simuliert.\n",
    "Für die Federrate ergibt sich eine Normalverteilung mit einem Erwartungswert von etwa 3600 N/mm (Entspricht der Nominalen Federrate des Paketes) \n",
    "Die Standard Abweichung liegt bei etwa 87 N/mm (Genaue Werte für die jeweiligen experimente sind im Folgenden Abschnitt zu finden. \n",
    "\n",
    "𝑐1=(100±20)N/mm \n",
    "𝑐2=(150±30)N/mm \n",
    "𝑐3=(200±40)N/mm\n"
   ]
  },
  {
   "cell_type": "code",
   "execution_count": 108,
   "metadata": {},
   "outputs": [
    {
     "name": "stdout",
     "output_type": "stream",
     "text": [
      " Erwartungswert 3599.7935815922574 N/mm \n",
      " Varianz 7674.580311444738 (N/mm)^2 \n",
      " => Standard Deviation 87.6046820178279 N/mm\n"
     ]
    },
    {
     "data": {
      "image/png": "[encoded data removed]",
      "text/plain": [
       "<Figure size 432x288 with 1 Axes>"
      ]
     },
     "metadata": {
      "needs_background": "light"
     },
     "output_type": "display_data"
    }
   ],
   "source": [
    "N = 10000\n",
    "# Random number generator\n",
    "rng = np.random.default_rng()\n",
    "\n",
    "c1 = rng.uniform(low = 80, high = 120, size = (N,8))\n",
    "c2 = rng.uniform(low = 120, high = 180, size = (N,8))\n",
    "c3a = rng.uniform(low = 160, high = 240, size = (N,8))\n",
    "c = np.sum(c1, axis = 1)+np.sum(c2, axis = 1)+np.sum(c3a, axis = 1)\n",
    "\n",
    "plt.hist(c, bins = 30)\n",
    "\n",
    "avg_c=np.mean(c)\n",
    "var_c=np.var(c)\n",
    "std_c=np.std(c)\n",
    "\n",
    "print(' Erwartungswert', avg_c, 'N/mm \\n Varianz', var_c, '(N/mm)^2 \\n => Standard Deviation', std_c,'N/mm')\n"
   ]
  },
  {
   "cell_type": "markdown",
   "metadata": {},
   "source": [
    "### 1b) c2=200-40N/mm\n",
    "\n",
    "Die Einschränkung des Toleranzbereichs auf Werte unter 200N/mm für die dritte Feder führt zu einer verringerung des Erwartungswertes um etwa 160 N/mm (um 8x20N/mm) und einer Verringerung der Standardvariation um etwa 20 N/mm was genau der Halbierung des Toleranzfensters (1/2x40N/mm) entspricht. "
   ]
  },
  {
   "cell_type": "code",
   "execution_count": 109,
   "metadata": {},
   "outputs": [
    {
     "name": "stdout",
     "output_type": "stream",
     "text": [
      " Erwartungswert 3439.561976228506 N/mm ( 160.23160536375144 )  \n",
      " Varianz 4525.4800728517985 (N/mm)^2 \n",
      " => Standard Deviation 67.27168849413398 N/mm ( 20.332993523693915 )\n"
     ]
    },
    {
     "data": {
      "image/png": "[encoded data removed]",
      "text/plain": [
       "<Figure size 432x288 with 1 Axes>"
      ]
     },
     "metadata": {
      "needs_background": "light"
     },
     "output_type": "display_data"
    }
   ],
   "source": [
    "c3b = rng.uniform(low = 160, high = 200, size = (N,8))\n",
    "cb = np.sum(c1, axis = 1)+np.sum(c2, axis = 1)+np.sum(c3b, axis = 1)\n",
    "\n",
    "plt.hist(cb, bins = 30)\n",
    "\n",
    "avg_cb=np.mean(cb)\n",
    "var_cb=np.var(cb)\n",
    "std_cb=np.std(cb)\n",
    "\n",
    "print(' Erwartungswert',avg_cb,'N/mm (',avg_c-avg_cb,')  \\n Varianz', var_cb, '(N/mm)^2 \\n => Standard Deviation', std_cb,'N/mm (',std_c-std_cb,')')\n",
    "\n"
   ]
  },
  {
   "cell_type": "markdown",
   "metadata": {},
   "source": [
    "### 2 𝐹=𝑐(1+ℎ1+ℎ2+𝑙+𝑑)\n",
    "Die geometrischen Eigenschaften entspricht dem ersten Assignment:\n",
    "\n",
    "Deviation  𝑑 /mm: Gleichverteilt,  [−0.05,0.05]mm \n",
    "Deviation  ℎ1 /mm: Gleichverteilt,  [−0.05,0.05]mm \n",
    "Deviation  ℎ2 /mm: Gleichverteilt,  [−0.05,0.05]mm \n",
    "Dev.  𝑙 /mm: Gleichverteilt,  [−0.05,0.05]mm"
   ]
  },
  {
   "cell_type": "code",
   "execution_count": 118,
   "metadata": {},
   "outputs": [
    {
     "name": "stdout",
     "output_type": "stream",
     "text": [
      " Erwartungswert 18719.147051425196 N \n",
      " Varianz 9481506.729156677 N^2 \n",
      " => Standard Deviation 3079.2055353867945 N\n"
     ]
    },
    {
     "data": {
      "image/png": "[encoded data removed]",
      "text/plain": [
       "<Figure size 432x288 with 1 Axes>"
      ]
     },
     "metadata": {
      "needs_background": "light"
     },
     "output_type": "display_data"
    }
   ],
   "source": [
    "d = rng.uniform(low = -0.05, high =0.05, size = (N,8))\n",
    "h1 = rng.uniform(low = -0.05, high =0.05, size = (N,8))\n",
    "h2 = rng.uniform(low = -0.05, high =0.05, size = (N,8))\n",
    "l= rng.uniform(low = -0.05, high =0.05, size = (N,8))\n",
    "i=2.6\n",
    "F=c*2*i*(1+np.sum(d, axis = 1)+np.sum(h1, axis = 1)+np.sum(h2, axis = 1)+np.sum(l, axis = 1))\n",
    "\n",
    "plt.hist(F, bins = 30)\n",
    "\n",
    "avg_F=np.mean(F)\n",
    "var_F=np.var(F)\n",
    "std_F=np.std(F)\n",
    "print(' Erwartungswert', avg_F, 'N \\n Varianz', var_F, 'N^2 \\n => Standard Deviation', std_F,'N')\n",
    "                         \n",
    "    "
   ]
  },
  {
   "cell_type": "code",
   "execution_count": null,
   "metadata": {},
   "outputs": [],
   "source": []
  },
  {
   "cell_type": "code",
   "execution_count": null,
   "metadata": {},
   "outputs": [],
   "source": []
  }
 ],
 "metadata": {
  "kernelspec": {
   "display_name": "Python 3 (ipykernel)",
   "language": "python",
   "name": "python3"
  },
  "language_info": {
   "codemirror_mode": {
    "name": "ipython",
    "version": 3
   },
   "file_extension": ".py",
   "mimetype": "text/x-python",
   "name": "python",
   "nbconvert_exporter": "python",
   "pygments_lexer": "ipython3",
   "version": "3.9.12"
  },
  "vscode": {
   "interpreter": {
    "hash": "ae3b893a0bc58c3148092dc90457c8592fff9682e4337f158c0293f1ec0e16f2"
   }
  }
 },
 "nbformat": 4,
 "nbformat_minor": 2
}
